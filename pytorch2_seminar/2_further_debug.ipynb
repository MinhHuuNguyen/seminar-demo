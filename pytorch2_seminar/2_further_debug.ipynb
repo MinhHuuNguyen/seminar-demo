{
 "cells": [
  {
   "cell_type": "code",
   "execution_count": 1,
   "id": "24faa1a1",
   "metadata": {},
   "outputs": [],
   "source": [
    "import torch"
   ]
  },
  {
   "cell_type": "code",
   "execution_count": 2,
   "id": "681f4f1e",
   "metadata": {},
   "outputs": [],
   "source": [
    "def fn(x, y):\n",
    "    a = torch.sin(x)\n",
    "    print(a)\n",
    "    b = torch.cos(y)\n",
    "    print(b)\n",
    "    return a + b"
   ]
  },
  {
   "cell_type": "code",
   "execution_count": 3,
   "id": "c17ccd83",
   "metadata": {},
   "outputs": [],
   "source": [
    "opt_fn = torch.compile(\n",
    "    fn,\n",
    "    backend='inductor',\n",
    "    options={\n",
    "        'trace.graph_diagram': True,\n",
    "        'trace.enabled': True\n",
    "    }\n",
    ")"
   ]
  },
  {
   "cell_type": "code",
   "execution_count": 4,
   "id": "37eb8493",
   "metadata": {},
   "outputs": [],
   "source": [
    "input_ = torch.randn(10_000, requires_grad=True)"
   ]
  },
  {
   "cell_type": "code",
   "execution_count": 5,
   "id": "a08e0a31",
   "metadata": {},
   "outputs": [
    {
     "name": "stdout",
     "output_type": "stream",
     "text": [
      "Writing FX graph to file: /home/nguyenhuuminh/Pytorch2Seminar/torch_compile_debug/run_2023_03_23_04_11_20_947078-pid_2961662/aot_torchinductor/model__0_forward_1.0/graph_diagram.svg\n"
     ]
    },
    {
     "name": "stderr",
     "output_type": "stream",
     "text": [
      "[2023-03-23 04:11:29,027] torch._inductor.debug: [WARNING] model__0_forward_1 debug trace: /home/nguyenhuuminh/Pytorch2Seminar/torch_compile_debug/run_2023_03_23_04_11_20_947078-pid_2961662/aot_torchinductor/model__0_forward_1.0\n"
     ]
    },
    {
     "name": "stdout",
     "output_type": "stream",
     "text": [
      "tensor([-0.7440, -0.1422, -0.3028,  ...,  0.5203, -0.9845,  0.8924],\n",
      "       grad_fn=<CompiledFunctionBackward>)\n",
      "Writing FX graph to file: /home/nguyenhuuminh/Pytorch2Seminar/torch_compile_debug/run_2023_03_23_04_11_20_947078-pid_2961662/aot_torchinductor/model__1_forward_3.1/graph_diagram.svg\n"
     ]
    },
    {
     "name": "stderr",
     "output_type": "stream",
     "text": [
      "[2023-03-23 04:11:30,893] torch._inductor.debug: [WARNING] model__1_forward_3 debug trace: /home/nguyenhuuminh/Pytorch2Seminar/torch_compile_debug/run_2023_03_23_04_11_20_947078-pid_2961662/aot_torchinductor/model__1_forward_3.1\n"
     ]
    },
    {
     "name": "stdout",
     "output_type": "stream",
     "text": [
      "tensor([ 0.6682,  0.9898,  0.9531,  ...,  0.8540, -0.1754,  0.4512],\n",
      "       grad_fn=<CompiledFunctionBackward>)\n",
      "Writing FX graph to file: /home/nguyenhuuminh/Pytorch2Seminar/torch_compile_debug/run_2023_03_23_04_11_20_947078-pid_2961662/aot_torchinductor/model__2_forward_5.2/graph_diagram.svg\n"
     ]
    },
    {
     "name": "stderr",
     "output_type": "stream",
     "text": [
      "[2023-03-23 04:11:32,389] torch._inductor.debug: [WARNING] model__2_forward_5 debug trace: /home/nguyenhuuminh/Pytorch2Seminar/torch_compile_debug/run_2023_03_23_04_11_20_947078-pid_2961662/aot_torchinductor/model__2_forward_5.2\n",
      "[2023-03-23 04:11:32,403] torch._inductor.debug: [WARNING] model__2_backward_6 debug trace: /home/nguyenhuuminh/Pytorch2Seminar/torch_compile_debug/run_2023_03_23_04_11_20_947078-pid_2961662/aot_torchinductor/model__2_backward_6.3\n"
     ]
    },
    {
     "name": "stdout",
     "output_type": "stream",
     "text": [
      "Writing FX graph to file: /home/nguyenhuuminh/Pytorch2Seminar/torch_compile_debug/run_2023_03_23_04_11_20_947078-pid_2961662/aot_torchinductor/model__1_backward_7.4/graph_diagram.svg\n"
     ]
    },
    {
     "name": "stderr",
     "output_type": "stream",
     "text": [
      "[2023-03-23 04:11:34,007] torch._inductor.debug: [WARNING] model__1_backward_7 debug trace: /home/nguyenhuuminh/Pytorch2Seminar/torch_compile_debug/run_2023_03_23_04_11_20_947078-pid_2961662/aot_torchinductor/model__1_backward_7.4\n"
     ]
    },
    {
     "name": "stdout",
     "output_type": "stream",
     "text": [
      "Writing FX graph to file: /home/nguyenhuuminh/Pytorch2Seminar/torch_compile_debug/run_2023_03_23_04_11_20_947078-pid_2961662/aot_torchinductor/model__0_backward_8.5/graph_diagram.svg\n"
     ]
    },
    {
     "name": "stderr",
     "output_type": "stream",
     "text": [
      "[2023-03-23 04:11:35,602] torch._inductor.debug: [WARNING] model__0_backward_8 debug trace: /home/nguyenhuuminh/Pytorch2Seminar/torch_compile_debug/run_2023_03_23_04_11_20_947078-pid_2961662/aot_torchinductor/model__0_backward_8.5\n"
     ]
    }
   ],
   "source": [
    "out = opt_fn(input_, input_).sum().backward()"
   ]
  },
  {
   "cell_type": "code",
   "execution_count": 6,
   "id": "f70a1560",
   "metadata": {},
   "outputs": [],
   "source": [
    "from torch.fx import passes, symbolic_trace"
   ]
  },
  {
   "cell_type": "code",
   "execution_count": 7,
   "id": "c9845fa2",
   "metadata": {},
   "outputs": [
    {
     "name": "stdout",
     "output_type": "stream",
     "text": [
      "Proxy(sin)\n",
      "Proxy(cos)\n"
     ]
    }
   ],
   "source": [
    "model = symbolic_trace(fn)"
   ]
  },
  {
   "cell_type": "code",
   "execution_count": 8,
   "id": "fdfb5620",
   "metadata": {},
   "outputs": [],
   "source": [
    "g = passes.graph_drawer.FxGraphDrawer(model, 'fn')"
   ]
  },
  {
   "cell_type": "code",
   "execution_count": 9,
   "id": "9f51e241",
   "metadata": {},
   "outputs": [],
   "source": [
    "with open('unoptimized_graph.svg', 'wb') as f:\n",
    "    f.write(g.get_dot_graph().create_svg())"
   ]
  },
  {
   "cell_type": "code",
   "execution_count": 10,
   "id": "a6fb32a1",
   "metadata": {},
   "outputs": [],
   "source": [
    "from IPython.display import SVG, display\n",
    "def show_svg(path):\n",
    "    display(SVG(path))"
   ]
  },
  {
   "cell_type": "code",
   "execution_count": 11,
   "id": "76344d01",
   "metadata": {},
   "outputs": [
    {
     "data": {
      "image/svg+xml": [
       "<svg xmlns=\"http://www.w3.org/2000/svg\" xmlns:xlink=\"http://www.w3.org/1999/xlink\" width=\"378pt\" height=\"488pt\" viewBox=\"0.00 0.00 378.00 488.00\">\n",
       "<g id=\"graph0\" class=\"graph\" transform=\"scale(1 1) rotate(0) translate(4 484)\">\n",
       "<title>fn</title>\n",
       "<polygon fill=\"white\" stroke=\"transparent\" points=\"-4,4 -4,-484 374,-484 374,4 -4,4\"/>\n",
       "<!-- x -->\n",
       "<g id=\"node1\" class=\"node\">\n",
       "<title>x</title>\n",
       "<path fill=\"AliceBlue\" stroke=\"black\" d=\"M15.5,-387.5C15.5,-387.5 160.5,-387.5 160.5,-387.5 166.5,-387.5 172.5,-393.5 172.5,-399.5 172.5,-399.5 172.5,-467.5 172.5,-467.5 172.5,-473.5 166.5,-479.5 160.5,-479.5 160.5,-479.5 15.5,-479.5 15.5,-479.5 9.5,-479.5 3.5,-473.5 3.5,-467.5 3.5,-467.5 3.5,-399.5 3.5,-399.5 3.5,-393.5 9.5,-387.5 15.5,-387.5\"/>\n",
       "<text text-anchor=\"middle\" x=\"88\" y=\"-464.3\" font-family=\"Times,serif\" font-size=\"14.00\" fill=\"#000000\">name=%x</text>\n",
       "<polyline fill=\"none\" stroke=\"black\" points=\"3.5,-456.5 172.5,-456.5 \"/>\n",
       "<text text-anchor=\"middle\" x=\"88\" y=\"-441.3\" font-family=\"Times,serif\" font-size=\"14.00\" fill=\"#000000\">op_code=placeholder</text>\n",
       "<polyline fill=\"none\" stroke=\"black\" points=\"3.5,-433.5 172.5,-433.5 \"/>\n",
       "<text text-anchor=\"middle\" x=\"88\" y=\"-418.3\" font-family=\"Times,serif\" font-size=\"14.00\" fill=\"#000000\">target=x</text>\n",
       "<polyline fill=\"none\" stroke=\"black\" points=\"3.5,-410.5 172.5,-410.5 \"/>\n",
       "<text text-anchor=\"middle\" x=\"88\" y=\"-395.3\" font-family=\"Times,serif\" font-size=\"14.00\" fill=\"#000000\">num_users=1</text>\n",
       "</g>\n",
       "<!-- sin -->\n",
       "<g id=\"node3\" class=\"node\">\n",
       "<title>sin</title>\n",
       "<path fill=\"#ffe1ff\" stroke=\"black\" d=\"M12,-258.5C12,-258.5 164,-258.5 164,-258.5 170,-258.5 176,-264.5 176,-270.5 176,-270.5 176,-338.5 176,-338.5 176,-344.5 170,-350.5 164,-350.5 164,-350.5 12,-350.5 12,-350.5 6,-350.5 0,-344.5 0,-338.5 0,-338.5 0,-270.5 0,-270.5 0,-264.5 6,-258.5 12,-258.5\"/>\n",
       "<text text-anchor=\"middle\" x=\"88\" y=\"-335.3\" font-family=\"Times,serif\" font-size=\"14.00\" fill=\"#000000\">name=%sin</text>\n",
       "<polyline fill=\"none\" stroke=\"black\" points=\"0,-327.5 176,-327.5 \"/>\n",
       "<text text-anchor=\"middle\" x=\"88\" y=\"-312.3\" font-family=\"Times,serif\" font-size=\"14.00\" fill=\"#000000\">op_code=call_function</text>\n",
       "<polyline fill=\"none\" stroke=\"black\" points=\"0,-304.5 176,-304.5 \"/>\n",
       "<text text-anchor=\"middle\" x=\"88\" y=\"-289.3\" font-family=\"Times,serif\" font-size=\"14.00\" fill=\"#000000\">target=torch.sin</text>\n",
       "<polyline fill=\"none\" stroke=\"black\" points=\"0,-281.5 176,-281.5 \"/>\n",
       "<text text-anchor=\"middle\" x=\"88\" y=\"-266.3\" font-family=\"Times,serif\" font-size=\"14.00\" fill=\"#000000\">num_users=1</text>\n",
       "</g>\n",
       "<!-- x&#45;&gt;sin -->\n",
       "<g id=\"edge1\" class=\"edge\">\n",
       "<title>x-&gt;sin</title>\n",
       "<path fill=\"none\" stroke=\"black\" d=\"M88,-387.37C88,-378.86 88,-369.87 88,-361.09\"/>\n",
       "<polygon fill=\"black\" stroke=\"black\" points=\"91.5,-360.92 88,-350.92 84.5,-360.92 91.5,-360.92\"/>\n",
       "</g>\n",
       "<!-- y -->\n",
       "<g id=\"node2\" class=\"node\">\n",
       "<title>y</title>\n",
       "<path fill=\"AliceBlue\" stroke=\"black\" d=\"M209.5,-387.5C209.5,-387.5 354.5,-387.5 354.5,-387.5 360.5,-387.5 366.5,-393.5 366.5,-399.5 366.5,-399.5 366.5,-467.5 366.5,-467.5 366.5,-473.5 360.5,-479.5 354.5,-479.5 354.5,-479.5 209.5,-479.5 209.5,-479.5 203.5,-479.5 197.5,-473.5 197.5,-467.5 197.5,-467.5 197.5,-399.5 197.5,-399.5 197.5,-393.5 203.5,-387.5 209.5,-387.5\"/>\n",
       "<text text-anchor=\"middle\" x=\"282\" y=\"-464.3\" font-family=\"Times,serif\" font-size=\"14.00\" fill=\"#000000\">name=%y</text>\n",
       "<polyline fill=\"none\" stroke=\"black\" points=\"197.5,-456.5 366.5,-456.5 \"/>\n",
       "<text text-anchor=\"middle\" x=\"282\" y=\"-441.3\" font-family=\"Times,serif\" font-size=\"14.00\" fill=\"#000000\">op_code=placeholder</text>\n",
       "<polyline fill=\"none\" stroke=\"black\" points=\"197.5,-433.5 366.5,-433.5 \"/>\n",
       "<text text-anchor=\"middle\" x=\"282\" y=\"-418.3\" font-family=\"Times,serif\" font-size=\"14.00\" fill=\"#000000\">target=y</text>\n",
       "<polyline fill=\"none\" stroke=\"black\" points=\"197.5,-410.5 366.5,-410.5 \"/>\n",
       "<text text-anchor=\"middle\" x=\"282\" y=\"-395.3\" font-family=\"Times,serif\" font-size=\"14.00\" fill=\"#000000\">num_users=1</text>\n",
       "</g>\n",
       "<!-- cos -->\n",
       "<g id=\"node4\" class=\"node\">\n",
       "<title>cos</title>\n",
       "<path fill=\"#ffe7ba\" stroke=\"black\" d=\"M206,-258.5C206,-258.5 358,-258.5 358,-258.5 364,-258.5 370,-264.5 370,-270.5 370,-270.5 370,-338.5 370,-338.5 370,-344.5 364,-350.5 358,-350.5 358,-350.5 206,-350.5 206,-350.5 200,-350.5 194,-344.5 194,-338.5 194,-338.5 194,-270.5 194,-270.5 194,-264.5 200,-258.5 206,-258.5\"/>\n",
       "<text text-anchor=\"middle\" x=\"282\" y=\"-335.3\" font-family=\"Times,serif\" font-size=\"14.00\" fill=\"#000000\">name=%cos</text>\n",
       "<polyline fill=\"none\" stroke=\"black\" points=\"194,-327.5 370,-327.5 \"/>\n",
       "<text text-anchor=\"middle\" x=\"282\" y=\"-312.3\" font-family=\"Times,serif\" font-size=\"14.00\" fill=\"#000000\">op_code=call_function</text>\n",
       "<polyline fill=\"none\" stroke=\"black\" points=\"194,-304.5 370,-304.5 \"/>\n",
       "<text text-anchor=\"middle\" x=\"282\" y=\"-289.3\" font-family=\"Times,serif\" font-size=\"14.00\" fill=\"#000000\">target=torch.cos</text>\n",
       "<polyline fill=\"none\" stroke=\"black\" points=\"194,-281.5 370,-281.5 \"/>\n",
       "<text text-anchor=\"middle\" x=\"282\" y=\"-266.3\" font-family=\"Times,serif\" font-size=\"14.00\" fill=\"#000000\">num_users=1</text>\n",
       "</g>\n",
       "<!-- y&#45;&gt;cos -->\n",
       "<g id=\"edge2\" class=\"edge\">\n",
       "<title>y-&gt;cos</title>\n",
       "<path fill=\"none\" stroke=\"black\" d=\"M282,-387.37C282,-378.86 282,-369.87 282,-361.09\"/>\n",
       "<polygon fill=\"black\" stroke=\"black\" points=\"285.5,-360.92 282,-350.92 278.5,-360.92 285.5,-360.92\"/>\n",
       "</g>\n",
       "<!-- add -->\n",
       "<g id=\"node5\" class=\"node\">\n",
       "<title>add</title>\n",
       "<path fill=\"#ffe7ba\" stroke=\"black\" d=\"M109,-129.5C109,-129.5 261,-129.5 261,-129.5 267,-129.5 273,-135.5 273,-141.5 273,-141.5 273,-209.5 273,-209.5 273,-215.5 267,-221.5 261,-221.5 261,-221.5 109,-221.5 109,-221.5 103,-221.5 97,-215.5 97,-209.5 97,-209.5 97,-141.5 97,-141.5 97,-135.5 103,-129.5 109,-129.5\"/>\n",
       "<text text-anchor=\"middle\" x=\"185\" y=\"-206.3\" font-family=\"Times,serif\" font-size=\"14.00\" fill=\"#000000\">name=%add</text>\n",
       "<polyline fill=\"none\" stroke=\"black\" points=\"97,-198.5 273,-198.5 \"/>\n",
       "<text text-anchor=\"middle\" x=\"185\" y=\"-183.3\" font-family=\"Times,serif\" font-size=\"14.00\" fill=\"#000000\">op_code=call_function</text>\n",
       "<polyline fill=\"none\" stroke=\"black\" points=\"97,-175.5 273,-175.5 \"/>\n",
       "<text text-anchor=\"middle\" x=\"185\" y=\"-160.3\" font-family=\"Times,serif\" font-size=\"14.00\" fill=\"#000000\">target=_operator.add</text>\n",
       "<polyline fill=\"none\" stroke=\"black\" points=\"97,-152.5 273,-152.5 \"/>\n",
       "<text text-anchor=\"middle\" x=\"185\" y=\"-137.3\" font-family=\"Times,serif\" font-size=\"14.00\" fill=\"#000000\">num_users=1</text>\n",
       "</g>\n",
       "<!-- sin&#45;&gt;add -->\n",
       "<g id=\"edge3\" class=\"edge\">\n",
       "<title>sin-&gt;add</title>\n",
       "<path fill=\"none\" stroke=\"black\" d=\"M122.47,-258.37C129.46,-249.21 136.88,-239.5 144.07,-230.09\"/>\n",
       "<polygon fill=\"black\" stroke=\"black\" points=\"147.02,-231.99 150.31,-221.92 141.46,-227.74 147.02,-231.99\"/>\n",
       "</g>\n",
       "<!-- cos&#45;&gt;add -->\n",
       "<g id=\"edge4\" class=\"edge\">\n",
       "<title>cos-&gt;add</title>\n",
       "<path fill=\"none\" stroke=\"black\" d=\"M247.53,-258.37C240.54,-249.21 233.12,-239.5 225.93,-230.09\"/>\n",
       "<polygon fill=\"black\" stroke=\"black\" points=\"228.54,-227.74 219.69,-221.92 222.98,-231.99 228.54,-227.74\"/>\n",
       "</g>\n",
       "<!-- output -->\n",
       "<g id=\"node6\" class=\"node\">\n",
       "<title>output</title>\n",
       "<path fill=\"PowderBlue\" stroke=\"black\" d=\"M130.5,-0.5C130.5,-0.5 239.5,-0.5 239.5,-0.5 245.5,-0.5 251.5,-6.5 251.5,-12.5 251.5,-12.5 251.5,-80.5 251.5,-80.5 251.5,-86.5 245.5,-92.5 239.5,-92.5 239.5,-92.5 130.5,-92.5 130.5,-92.5 124.5,-92.5 118.5,-86.5 118.5,-80.5 118.5,-80.5 118.5,-12.5 118.5,-12.5 118.5,-6.5 124.5,-0.5 130.5,-0.5\"/>\n",
       "<text text-anchor=\"middle\" x=\"185\" y=\"-77.3\" font-family=\"Times,serif\" font-size=\"14.00\" fill=\"#000000\">name=%output</text>\n",
       "<polyline fill=\"none\" stroke=\"black\" points=\"118.5,-69.5 251.5,-69.5 \"/>\n",
       "<text text-anchor=\"middle\" x=\"185\" y=\"-54.3\" font-family=\"Times,serif\" font-size=\"14.00\" fill=\"#000000\">op_code=output</text>\n",
       "<polyline fill=\"none\" stroke=\"black\" points=\"118.5,-46.5 251.5,-46.5 \"/>\n",
       "<text text-anchor=\"middle\" x=\"185\" y=\"-31.3\" font-family=\"Times,serif\" font-size=\"14.00\" fill=\"#000000\">target=output</text>\n",
       "<polyline fill=\"none\" stroke=\"black\" points=\"118.5,-23.5 251.5,-23.5 \"/>\n",
       "<text text-anchor=\"middle\" x=\"185\" y=\"-8.3\" font-family=\"Times,serif\" font-size=\"14.00\" fill=\"#000000\">num_users=0</text>\n",
       "</g>\n",
       "<!-- add&#45;&gt;output -->\n",
       "<g id=\"edge5\" class=\"edge\">\n",
       "<title>add-&gt;output</title>\n",
       "<path fill=\"none\" stroke=\"black\" d=\"M185,-129.37C185,-120.86 185,-111.87 185,-103.09\"/>\n",
       "<polygon fill=\"black\" stroke=\"black\" points=\"188.5,-102.92 185,-92.92 181.5,-102.92 188.5,-102.92\"/>\n",
       "</g>\n",
       "</g>\n",
       "</svg>"
      ],
      "text/plain": [
       "<IPython.core.display.SVG object>"
      ]
     },
     "metadata": {},
     "output_type": "display_data"
    }
   ],
   "source": [
    "show_svg('unoptimized_graph.svg')"
   ]
  },
  {
   "cell_type": "code",
   "execution_count": 12,
   "id": "e06447ee",
   "metadata": {},
   "outputs": [
    {
     "data": {
      "image/svg+xml": [
       "<svg xmlns=\"http://www.w3.org/2000/svg\" xmlns:xlink=\"http://www.w3.org/1999/xlink\" width=\"364pt\" height=\"451pt\" viewBox=\"0.00 0.00 364.00 451.00\">\n",
       "<g id=\"graph0\" class=\"graph\" transform=\"scale(1 1) rotate(0) translate(4 447)\">\n",
       "<title>fx_graph</title>\n",
       "<polygon fill=\"white\" stroke=\"transparent\" points=\"-4,4 -4,-447 360,-447 360,4 -4,4\"/>\n",
       "<!-- primals_2 -->\n",
       "<g id=\"node1\" class=\"node\">\n",
       "<title>primals_2</title>\n",
       "<path fill=\"AliceBlue\" stroke=\"black\" d=\"M12,-350.5C12,-350.5 157,-350.5 157,-350.5 163,-350.5 169,-356.5 169,-362.5 169,-362.5 169,-430.5 169,-430.5 169,-436.5 163,-442.5 157,-442.5 157,-442.5 12,-442.5 12,-442.5 6,-442.5 0,-436.5 0,-430.5 0,-430.5 0,-362.5 0,-362.5 0,-356.5 6,-350.5 12,-350.5\"/>\n",
       "<text text-anchor=\"middle\" x=\"84.5\" y=\"-427.3\" font-family=\"Times,serif\" font-size=\"14.00\" fill=\"#000000\">name=%primals_2</text>\n",
       "<polyline fill=\"none\" stroke=\"black\" points=\"0,-419.5 169,-419.5 \"/>\n",
       "<text text-anchor=\"middle\" x=\"84.5\" y=\"-404.3\" font-family=\"Times,serif\" font-size=\"14.00\" fill=\"#000000\">op_code=placeholder</text>\n",
       "<polyline fill=\"none\" stroke=\"black\" points=\"0,-396.5 169,-396.5 \"/>\n",
       "<text text-anchor=\"middle\" x=\"84.5\" y=\"-381.3\" font-family=\"Times,serif\" font-size=\"14.00\" fill=\"#000000\">target=primals_2</text>\n",
       "<polyline fill=\"none\" stroke=\"black\" points=\"0,-373.5 169,-373.5 \"/>\n",
       "<text text-anchor=\"middle\" x=\"84.5\" y=\"-358.3\" font-family=\"Times,serif\" font-size=\"14.00\" fill=\"#000000\">num_users=1</text>\n",
       "</g>\n",
       "<!-- buf0 -->\n",
       "<g id=\"node3\" class=\"node\">\n",
       "<title>buf0</title>\n",
       "<path fill=\"Coral\" stroke=\"black\" d=\"M42,-129.5C42,-129.5 313,-129.5 313,-129.5 319,-129.5 325,-135.5 325,-141.5 325,-141.5 325,-301.5 325,-301.5 325,-307.5 319,-313.5 313,-313.5 313,-313.5 42,-313.5 42,-313.5 36,-313.5 30,-307.5 30,-301.5 30,-301.5 30,-141.5 30,-141.5 30,-135.5 36,-129.5 42,-129.5\"/>\n",
       "<text text-anchor=\"middle\" x=\"177.5\" y=\"-298.3\" font-family=\"Times,serif\" font-size=\"14.00\" fill=\"#000000\">name=%buf0</text>\n",
       "<polyline fill=\"none\" stroke=\"black\" points=\"30,-290.5 325,-290.5 \"/>\n",
       "<text text-anchor=\"middle\" x=\"177.5\" y=\"-275.3\" font-family=\"Times,serif\" font-size=\"14.00\" fill=\"#000000\">op_code=call_function</text>\n",
       "<polyline fill=\"none\" stroke=\"black\" points=\"30,-267.5 325,-267.5 \"/>\n",
       "<text text-anchor=\"middle\" x=\"177.5\" y=\"-252.3\" font-family=\"Times,serif\" font-size=\"14.00\" fill=\"#000000\">target=torch._inductor.debug.compute</text>\n",
       "<polyline fill=\"none\" stroke=\"black\" points=\"30,-244.5 325,-244.5 \"/>\n",
       "<text text-anchor=\"middle\" x=\"177.5\" y=\"-229.3\" font-family=\"Times,serif\" font-size=\"14.00\" fill=\"#000000\">num_users=1</text>\n",
       "<polyline fill=\"none\" stroke=\"black\" points=\"30,-221.5 325,-221.5 \"/>\n",
       "<text text-anchor=\"middle\" x=\"177.5\" y=\"-206.3\" font-family=\"Times,serif\" font-size=\"14.00\" fill=\"#000000\">dtype=None</text>\n",
       "<polyline fill=\"none\" stroke=\"black\" points=\"30,-198.5 325,-198.5 \"/>\n",
       "<text text-anchor=\"middle\" x=\"177.5\" y=\"-183.3\" font-family=\"Times,serif\" font-size=\"14.00\" fill=\"#000000\">shape=((10000,), ())</text>\n",
       "<polyline fill=\"none\" stroke=\"black\" points=\"30,-175.5 325,-175.5 \"/>\n",
       "<text text-anchor=\"middle\" x=\"177.5\" y=\"-160.3\" font-family=\"Times,serif\" font-size=\"14.00\" fill=\"#000000\">requires_grad=None</text>\n",
       "<polyline fill=\"none\" stroke=\"black\" points=\"30,-152.5 325,-152.5 \"/>\n",
       "<text text-anchor=\"middle\" x=\"177.5\" y=\"-137.3\" font-family=\"Times,serif\" font-size=\"14.00\" fill=\"#000000\">stride=None</text>\n",
       "</g>\n",
       "<!-- primals_2&#45;&gt;buf0 -->\n",
       "<g id=\"edge1\" class=\"edge\">\n",
       "<title>primals_2-&gt;buf0</title>\n",
       "<path fill=\"none\" stroke=\"black\" d=\"M108.69,-350.5C113.39,-341.76 118.48,-332.28 123.71,-322.57\"/>\n",
       "<polygon fill=\"black\" stroke=\"black\" points=\"126.88,-324.06 128.53,-313.6 120.71,-320.75 126.88,-324.06\"/>\n",
       "</g>\n",
       "<!-- primals_1 -->\n",
       "<g id=\"node2\" class=\"node\">\n",
       "<title>primals_1</title>\n",
       "<path fill=\"AliceBlue\" stroke=\"black\" d=\"M199,-350.5C199,-350.5 344,-350.5 344,-350.5 350,-350.5 356,-356.5 356,-362.5 356,-362.5 356,-430.5 356,-430.5 356,-436.5 350,-442.5 344,-442.5 344,-442.5 199,-442.5 199,-442.5 193,-442.5 187,-436.5 187,-430.5 187,-430.5 187,-362.5 187,-362.5 187,-356.5 193,-350.5 199,-350.5\"/>\n",
       "<text text-anchor=\"middle\" x=\"271.5\" y=\"-427.3\" font-family=\"Times,serif\" font-size=\"14.00\" fill=\"#000000\">name=%primals_1</text>\n",
       "<polyline fill=\"none\" stroke=\"black\" points=\"187,-419.5 356,-419.5 \"/>\n",
       "<text text-anchor=\"middle\" x=\"271.5\" y=\"-404.3\" font-family=\"Times,serif\" font-size=\"14.00\" fill=\"#000000\">op_code=placeholder</text>\n",
       "<polyline fill=\"none\" stroke=\"black\" points=\"187,-396.5 356,-396.5 \"/>\n",
       "<text text-anchor=\"middle\" x=\"271.5\" y=\"-381.3\" font-family=\"Times,serif\" font-size=\"14.00\" fill=\"#000000\">target=primals_1</text>\n",
       "<polyline fill=\"none\" stroke=\"black\" points=\"187,-373.5 356,-373.5 \"/>\n",
       "<text text-anchor=\"middle\" x=\"271.5\" y=\"-358.3\" font-family=\"Times,serif\" font-size=\"14.00\" fill=\"#000000\">num_users=1</text>\n",
       "</g>\n",
       "<!-- primals_1&#45;&gt;buf0 -->\n",
       "<g id=\"edge2\" class=\"edge\">\n",
       "<title>primals_1-&gt;buf0</title>\n",
       "<path fill=\"none\" stroke=\"black\" d=\"M247.05,-350.5C242.3,-341.76 237.15,-332.28 231.87,-322.57\"/>\n",
       "<polygon fill=\"black\" stroke=\"black\" points=\"234.85,-320.71 227,-313.6 228.7,-324.05 234.85,-320.71\"/>\n",
       "</g>\n",
       "<!-- output -->\n",
       "<g id=\"node4\" class=\"node\">\n",
       "<title>output</title>\n",
       "<path fill=\"PowderBlue\" stroke=\"black\" d=\"M123,-0.5C123,-0.5 232,-0.5 232,-0.5 238,-0.5 244,-6.5 244,-12.5 244,-12.5 244,-80.5 244,-80.5 244,-86.5 238,-92.5 232,-92.5 232,-92.5 123,-92.5 123,-92.5 117,-92.5 111,-86.5 111,-80.5 111,-80.5 111,-12.5 111,-12.5 111,-6.5 117,-0.5 123,-0.5\"/>\n",
       "<text text-anchor=\"middle\" x=\"177.5\" y=\"-77.3\" font-family=\"Times,serif\" font-size=\"14.00\" fill=\"#000000\">name=%output</text>\n",
       "<polyline fill=\"none\" stroke=\"black\" points=\"111,-69.5 244,-69.5 \"/>\n",
       "<text text-anchor=\"middle\" x=\"177.5\" y=\"-54.3\" font-family=\"Times,serif\" font-size=\"14.00\" fill=\"#000000\">op_code=output</text>\n",
       "<polyline fill=\"none\" stroke=\"black\" points=\"111,-46.5 244,-46.5 \"/>\n",
       "<text text-anchor=\"middle\" x=\"177.5\" y=\"-31.3\" font-family=\"Times,serif\" font-size=\"14.00\" fill=\"#000000\">target=output</text>\n",
       "<polyline fill=\"none\" stroke=\"black\" points=\"111,-23.5 244,-23.5 \"/>\n",
       "<text text-anchor=\"middle\" x=\"177.5\" y=\"-8.3\" font-family=\"Times,serif\" font-size=\"14.00\" fill=\"#000000\">num_users=0</text>\n",
       "</g>\n",
       "<!-- buf0&#45;&gt;output -->\n",
       "<g id=\"edge3\" class=\"edge\">\n",
       "<title>buf0-&gt;output</title>\n",
       "<path fill=\"none\" stroke=\"black\" d=\"M177.5,-129.44C177.5,-120.41 177.5,-111.45 177.5,-102.95\"/>\n",
       "<polygon fill=\"black\" stroke=\"black\" points=\"181,-102.84 177.5,-92.84 174,-102.84 181,-102.84\"/>\n",
       "</g>\n",
       "</g>\n",
       "</svg>"
      ],
      "text/plain": [
       "<IPython.core.display.SVG object>"
      ]
     },
     "metadata": {},
     "output_type": "display_data"
    }
   ],
   "source": [
    "show_svg(\n",
    "    'torch_compile_debug/' + \\\n",
    "    'run_2023_03_23_04_05_09_162185-pid_2819887/' + \\\n",
    "    'aot_torchinductor/' + \\\n",
    "    'model__0_forward_1.0/' + \\\n",
    "    'graph_diagram.svg'\n",
    ")"
   ]
  },
  {
   "cell_type": "code",
   "execution_count": 16,
   "id": "68c29592",
   "metadata": {},
   "outputs": [
    {
     "data": {
      "image/svg+xml": [
       "<svg xmlns=\"http://www.w3.org/2000/svg\" xmlns:xlink=\"http://www.w3.org/1999/xlink\" width=\"364pt\" height=\"451pt\" viewBox=\"0.00 0.00 364.00 451.00\">\n",
       "<g id=\"graph0\" class=\"graph\" transform=\"scale(1 1) rotate(0) translate(4 447)\">\n",
       "<title>fx_graph</title>\n",
       "<polygon fill=\"white\" stroke=\"transparent\" points=\"-4,4 -4,-447 360,-447 360,4 -4,4\"/>\n",
       "<!-- primals_2 -->\n",
       "<g id=\"node1\" class=\"node\">\n",
       "<title>primals_2</title>\n",
       "<path fill=\"AliceBlue\" stroke=\"black\" d=\"M12,-350.5C12,-350.5 157,-350.5 157,-350.5 163,-350.5 169,-356.5 169,-362.5 169,-362.5 169,-430.5 169,-430.5 169,-436.5 163,-442.5 157,-442.5 157,-442.5 12,-442.5 12,-442.5 6,-442.5 0,-436.5 0,-430.5 0,-430.5 0,-362.5 0,-362.5 0,-356.5 6,-350.5 12,-350.5\"/>\n",
       "<text text-anchor=\"middle\" x=\"84.5\" y=\"-427.3\" font-family=\"Times,serif\" font-size=\"14.00\" fill=\"#000000\">name=%primals_2</text>\n",
       "<polyline fill=\"none\" stroke=\"black\" points=\"0,-419.5 169,-419.5 \"/>\n",
       "<text text-anchor=\"middle\" x=\"84.5\" y=\"-404.3\" font-family=\"Times,serif\" font-size=\"14.00\" fill=\"#000000\">op_code=placeholder</text>\n",
       "<polyline fill=\"none\" stroke=\"black\" points=\"0,-396.5 169,-396.5 \"/>\n",
       "<text text-anchor=\"middle\" x=\"84.5\" y=\"-381.3\" font-family=\"Times,serif\" font-size=\"14.00\" fill=\"#000000\">target=primals_2</text>\n",
       "<polyline fill=\"none\" stroke=\"black\" points=\"0,-373.5 169,-373.5 \"/>\n",
       "<text text-anchor=\"middle\" x=\"84.5\" y=\"-358.3\" font-family=\"Times,serif\" font-size=\"14.00\" fill=\"#000000\">num_users=1</text>\n",
       "</g>\n",
       "<!-- buf0 -->\n",
       "<g id=\"node3\" class=\"node\">\n",
       "<title>buf0</title>\n",
       "<path fill=\"Coral\" stroke=\"black\" d=\"M42,-129.5C42,-129.5 313,-129.5 313,-129.5 319,-129.5 325,-135.5 325,-141.5 325,-141.5 325,-301.5 325,-301.5 325,-307.5 319,-313.5 313,-313.5 313,-313.5 42,-313.5 42,-313.5 36,-313.5 30,-307.5 30,-301.5 30,-301.5 30,-141.5 30,-141.5 30,-135.5 36,-129.5 42,-129.5\"/>\n",
       "<text text-anchor=\"middle\" x=\"177.5\" y=\"-298.3\" font-family=\"Times,serif\" font-size=\"14.00\" fill=\"#000000\">name=%buf0</text>\n",
       "<polyline fill=\"none\" stroke=\"black\" points=\"30,-290.5 325,-290.5 \"/>\n",
       "<text text-anchor=\"middle\" x=\"177.5\" y=\"-275.3\" font-family=\"Times,serif\" font-size=\"14.00\" fill=\"#000000\">op_code=call_function</text>\n",
       "<polyline fill=\"none\" stroke=\"black\" points=\"30,-267.5 325,-267.5 \"/>\n",
       "<text text-anchor=\"middle\" x=\"177.5\" y=\"-252.3\" font-family=\"Times,serif\" font-size=\"14.00\" fill=\"#000000\">target=torch._inductor.debug.compute</text>\n",
       "<polyline fill=\"none\" stroke=\"black\" points=\"30,-244.5 325,-244.5 \"/>\n",
       "<text text-anchor=\"middle\" x=\"177.5\" y=\"-229.3\" font-family=\"Times,serif\" font-size=\"14.00\" fill=\"#000000\">num_users=1</text>\n",
       "<polyline fill=\"none\" stroke=\"black\" points=\"30,-221.5 325,-221.5 \"/>\n",
       "<text text-anchor=\"middle\" x=\"177.5\" y=\"-206.3\" font-family=\"Times,serif\" font-size=\"14.00\" fill=\"#000000\">dtype=None</text>\n",
       "<polyline fill=\"none\" stroke=\"black\" points=\"30,-198.5 325,-198.5 \"/>\n",
       "<text text-anchor=\"middle\" x=\"177.5\" y=\"-183.3\" font-family=\"Times,serif\" font-size=\"14.00\" fill=\"#000000\">shape=((10000,), ())</text>\n",
       "<polyline fill=\"none\" stroke=\"black\" points=\"30,-175.5 325,-175.5 \"/>\n",
       "<text text-anchor=\"middle\" x=\"177.5\" y=\"-160.3\" font-family=\"Times,serif\" font-size=\"14.00\" fill=\"#000000\">requires_grad=None</text>\n",
       "<polyline fill=\"none\" stroke=\"black\" points=\"30,-152.5 325,-152.5 \"/>\n",
       "<text text-anchor=\"middle\" x=\"177.5\" y=\"-137.3\" font-family=\"Times,serif\" font-size=\"14.00\" fill=\"#000000\">stride=None</text>\n",
       "</g>\n",
       "<!-- primals_2&#45;&gt;buf0 -->\n",
       "<g id=\"edge1\" class=\"edge\">\n",
       "<title>primals_2-&gt;buf0</title>\n",
       "<path fill=\"none\" stroke=\"black\" d=\"M108.69,-350.5C113.39,-341.76 118.48,-332.28 123.71,-322.57\"/>\n",
       "<polygon fill=\"black\" stroke=\"black\" points=\"126.88,-324.06 128.53,-313.6 120.71,-320.75 126.88,-324.06\"/>\n",
       "</g>\n",
       "<!-- primals_1 -->\n",
       "<g id=\"node2\" class=\"node\">\n",
       "<title>primals_1</title>\n",
       "<path fill=\"AliceBlue\" stroke=\"black\" d=\"M199,-350.5C199,-350.5 344,-350.5 344,-350.5 350,-350.5 356,-356.5 356,-362.5 356,-362.5 356,-430.5 356,-430.5 356,-436.5 350,-442.5 344,-442.5 344,-442.5 199,-442.5 199,-442.5 193,-442.5 187,-436.5 187,-430.5 187,-430.5 187,-362.5 187,-362.5 187,-356.5 193,-350.5 199,-350.5\"/>\n",
       "<text text-anchor=\"middle\" x=\"271.5\" y=\"-427.3\" font-family=\"Times,serif\" font-size=\"14.00\" fill=\"#000000\">name=%primals_1</text>\n",
       "<polyline fill=\"none\" stroke=\"black\" points=\"187,-419.5 356,-419.5 \"/>\n",
       "<text text-anchor=\"middle\" x=\"271.5\" y=\"-404.3\" font-family=\"Times,serif\" font-size=\"14.00\" fill=\"#000000\">op_code=placeholder</text>\n",
       "<polyline fill=\"none\" stroke=\"black\" points=\"187,-396.5 356,-396.5 \"/>\n",
       "<text text-anchor=\"middle\" x=\"271.5\" y=\"-381.3\" font-family=\"Times,serif\" font-size=\"14.00\" fill=\"#000000\">target=primals_1</text>\n",
       "<polyline fill=\"none\" stroke=\"black\" points=\"187,-373.5 356,-373.5 \"/>\n",
       "<text text-anchor=\"middle\" x=\"271.5\" y=\"-358.3\" font-family=\"Times,serif\" font-size=\"14.00\" fill=\"#000000\">num_users=1</text>\n",
       "</g>\n",
       "<!-- primals_1&#45;&gt;buf0 -->\n",
       "<g id=\"edge2\" class=\"edge\">\n",
       "<title>primals_1-&gt;buf0</title>\n",
       "<path fill=\"none\" stroke=\"black\" d=\"M247.05,-350.5C242.3,-341.76 237.15,-332.28 231.87,-322.57\"/>\n",
       "<polygon fill=\"black\" stroke=\"black\" points=\"234.85,-320.71 227,-313.6 228.7,-324.05 234.85,-320.71\"/>\n",
       "</g>\n",
       "<!-- output -->\n",
       "<g id=\"node4\" class=\"node\">\n",
       "<title>output</title>\n",
       "<path fill=\"PowderBlue\" stroke=\"black\" d=\"M123,-0.5C123,-0.5 232,-0.5 232,-0.5 238,-0.5 244,-6.5 244,-12.5 244,-12.5 244,-80.5 244,-80.5 244,-86.5 238,-92.5 232,-92.5 232,-92.5 123,-92.5 123,-92.5 117,-92.5 111,-86.5 111,-80.5 111,-80.5 111,-12.5 111,-12.5 111,-6.5 117,-0.5 123,-0.5\"/>\n",
       "<text text-anchor=\"middle\" x=\"177.5\" y=\"-77.3\" font-family=\"Times,serif\" font-size=\"14.00\" fill=\"#000000\">name=%output</text>\n",
       "<polyline fill=\"none\" stroke=\"black\" points=\"111,-69.5 244,-69.5 \"/>\n",
       "<text text-anchor=\"middle\" x=\"177.5\" y=\"-54.3\" font-family=\"Times,serif\" font-size=\"14.00\" fill=\"#000000\">op_code=output</text>\n",
       "<polyline fill=\"none\" stroke=\"black\" points=\"111,-46.5 244,-46.5 \"/>\n",
       "<text text-anchor=\"middle\" x=\"177.5\" y=\"-31.3\" font-family=\"Times,serif\" font-size=\"14.00\" fill=\"#000000\">target=output</text>\n",
       "<polyline fill=\"none\" stroke=\"black\" points=\"111,-23.5 244,-23.5 \"/>\n",
       "<text text-anchor=\"middle\" x=\"177.5\" y=\"-8.3\" font-family=\"Times,serif\" font-size=\"14.00\" fill=\"#000000\">num_users=0</text>\n",
       "</g>\n",
       "<!-- buf0&#45;&gt;output -->\n",
       "<g id=\"edge3\" class=\"edge\">\n",
       "<title>buf0-&gt;output</title>\n",
       "<path fill=\"none\" stroke=\"black\" d=\"M177.5,-129.44C177.5,-120.41 177.5,-111.45 177.5,-102.95\"/>\n",
       "<polygon fill=\"black\" stroke=\"black\" points=\"181,-102.84 177.5,-92.84 174,-102.84 181,-102.84\"/>\n",
       "</g>\n",
       "</g>\n",
       "</svg>"
      ],
      "text/plain": [
       "<IPython.core.display.SVG object>"
      ]
     },
     "metadata": {},
     "output_type": "display_data"
    }
   ],
   "source": [
    "show_svg(\n",
    "    'torch_compile_debug/' + \\\n",
    "    'run_2023_03_23_04_11_20_947078-pid_2961662/' + \\\n",
    "    'aot_torchinductor/' + \\\n",
    "    'model__2_forward_5.2/' + \\\n",
    "    'graph_diagram.svg'\n",
    ")"
   ]
  },
  {
   "cell_type": "code",
   "execution_count": null,
   "id": "6e2b7444",
   "metadata": {},
   "outputs": [],
   "source": []
  }
 ],
 "metadata": {
  "kernelspec": {
   "display_name": "Python 3 (ipykernel)",
   "language": "python",
   "name": "python3"
  },
  "language_info": {
   "codemirror_mode": {
    "name": "ipython",
    "version": 3
   },
   "file_extension": ".py",
   "mimetype": "text/x-python",
   "name": "python",
   "nbconvert_exporter": "python",
   "pygments_lexer": "ipython3",
   "version": "3.8.16"
  }
 },
 "nbformat": 4,
 "nbformat_minor": 5
}
