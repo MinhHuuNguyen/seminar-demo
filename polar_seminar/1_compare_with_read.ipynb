{
 "cells": [
  {
   "cell_type": "code",
   "execution_count": 1,
   "id": "a50329a7",
   "metadata": {},
   "outputs": [],
   "source": [
    "import polars as pl\n",
    "import pandas as pd\n",
    "import pyspark as ps"
   ]
  },
  {
   "cell_type": "code",
   "execution_count": 2,
   "id": "2cbc15dd",
   "metadata": {},
   "outputs": [],
   "source": [
    "CSV_40M_PATH = 'data/Parking_Violations_40M.csv' # 9.65 GB\n",
    "CSV_20M_PATH = 'data/Parking_Violations_20M.csv' # 4.89 GB\n",
    "CSV_9M_PATH = 'data/Parking_Violations_9M.csv' # 1.95 GB\n",
    "CSV_4M_PATH = 'data/Parking_Violations_4M.csv' # 855 MB\n",
    "CSV_2M_PATH = 'data/Parking_Violations_2M.csv' # 428 MB\n",
    "CSV_1M_PATH = 'data/Parking_Violations_1M.csv' # 214 MB\n",
    "CSV_500K_PATH = 'data/Parking_Violations_500K.csv' # 107 MB"
   ]
  },
  {
   "cell_type": "code",
   "execution_count": 3,
   "id": "138b6f5c",
   "metadata": {},
   "outputs": [],
   "source": [
    "CSV_PATH = CSV_40M_PATH\n",
    "OUT_JSON_NAME = 'CSV_40M_PATH'"
   ]
  },
  {
   "cell_type": "code",
   "execution_count": 4,
   "id": "3d7b6781",
   "metadata": {},
   "outputs": [],
   "source": [
    "comparison_results_dict = {\n",
    "    'read_csv': {},\n",
    "    'filter_one_condition': {},\n",
    "    'filter_multiple_conditions': {},\n",
    "    'create_new_column': {},\n",
    "    'group_by': {}\n",
    "}"
   ]
  },
  {
   "cell_type": "markdown",
   "id": "4262a230",
   "metadata": {},
   "source": [
    "# Let's compare"
   ]
  },
  {
   "cell_type": "markdown",
   "id": "f1eb7eec",
   "metadata": {},
   "source": [
    "## 1. Read CSV"
   ]
  },
  {
   "cell_type": "markdown",
   "id": "eeb22bdc",
   "metadata": {},
   "source": [
    "### 1.1. Polars"
   ]
  },
  {
   "cell_type": "code",
   "execution_count": 5,
   "id": "03764d4a",
   "metadata": {},
   "outputs": [
    {
     "name": "stdout",
     "output_type": "stream",
     "text": [
      "10.4 s ± 153 ms per loop (mean ± std. dev. of 7 runs, 1 loop each)\n"
     ]
    },
    {
     "data": {
      "text/plain": [
       "<TimeitResult : 10.4 s ± 153 ms per loop (mean ± std. dev. of 7 runs, 1 loop each)>"
      ]
     },
     "execution_count": 5,
     "metadata": {},
     "output_type": "execute_result"
    }
   ],
   "source": [
    "%%timeit -o\n",
    "polars_df = pl.scan_csv(CSV_PATH, ignore_errors=True)\n",
    "polars_df.collect()"
   ]
  },
  {
   "cell_type": "code",
   "execution_count": 6,
   "id": "4596dc00",
   "metadata": {},
   "outputs": [],
   "source": [
    "comparison_results_dict['read_csv']['polars'] = _.best"
   ]
  },
  {
   "cell_type": "markdown",
   "id": "ab62d3dd",
   "metadata": {},
   "source": [
    "### 1.2. Pandas"
   ]
  },
  {
   "cell_type": "code",
   "execution_count": 7,
   "id": "692a9d58",
   "metadata": {},
   "outputs": [
    {
     "ename": "KeyboardInterrupt",
     "evalue": "",
     "output_type": "error",
     "traceback": [
      "\u001b[0;31m---------------------------------------------------------------------------\u001b[0m",
      "\u001b[0;31mKeyboardInterrupt\u001b[0m                         Traceback (most recent call last)",
      "Cell \u001b[0;32mIn[7], line 1\u001b[0m\n\u001b[0;32m----> 1\u001b[0m \u001b[43mget_ipython\u001b[49m\u001b[43m(\u001b[49m\u001b[43m)\u001b[49m\u001b[38;5;241;43m.\u001b[39;49m\u001b[43mrun_cell_magic\u001b[49m\u001b[43m(\u001b[49m\u001b[38;5;124;43m'\u001b[39;49m\u001b[38;5;124;43mtimeit\u001b[39;49m\u001b[38;5;124;43m'\u001b[39;49m\u001b[43m,\u001b[49m\u001b[43m \u001b[49m\u001b[38;5;124;43m'\u001b[39;49m\u001b[38;5;124;43m-o\u001b[39;49m\u001b[38;5;124;43m'\u001b[39;49m\u001b[43m,\u001b[49m\u001b[43m \u001b[49m\u001b[38;5;124;43m\"\u001b[39;49m\u001b[38;5;124;43mpandas_df = pd.read_csv(CSV_PATH, on_bad_lines=\u001b[39;49m\u001b[38;5;124;43m'\u001b[39;49m\u001b[38;5;124;43mskip\u001b[39;49m\u001b[38;5;124;43m'\u001b[39;49m\u001b[38;5;124;43m)\u001b[39;49m\u001b[38;5;130;43;01m\\n\u001b[39;49;00m\u001b[38;5;124;43m\"\u001b[39;49m\u001b[43m)\u001b[49m\n",
      "File \u001b[0;32m~/miniconda3/envs/pytorch2_env/lib/python3.8/site-packages/IPython/core/interactiveshell.py:2430\u001b[0m, in \u001b[0;36mInteractiveShell.run_cell_magic\u001b[0;34m(self, magic_name, line, cell)\u001b[0m\n\u001b[1;32m   2428\u001b[0m \u001b[38;5;28;01mwith\u001b[39;00m \u001b[38;5;28mself\u001b[39m\u001b[38;5;241m.\u001b[39mbuiltin_trap:\n\u001b[1;32m   2429\u001b[0m     args \u001b[38;5;241m=\u001b[39m (magic_arg_s, cell)\n\u001b[0;32m-> 2430\u001b[0m     result \u001b[38;5;241m=\u001b[39m \u001b[43mfn\u001b[49m\u001b[43m(\u001b[49m\u001b[38;5;241;43m*\u001b[39;49m\u001b[43margs\u001b[49m\u001b[43m,\u001b[49m\u001b[43m \u001b[49m\u001b[38;5;241;43m*\u001b[39;49m\u001b[38;5;241;43m*\u001b[39;49m\u001b[43mkwargs\u001b[49m\u001b[43m)\u001b[49m\n\u001b[1;32m   2432\u001b[0m \u001b[38;5;66;03m# The code below prevents the output from being displayed\u001b[39;00m\n\u001b[1;32m   2433\u001b[0m \u001b[38;5;66;03m# when using magics with decodator @output_can_be_silenced\u001b[39;00m\n\u001b[1;32m   2434\u001b[0m \u001b[38;5;66;03m# when the last Python token in the expression is a ';'.\u001b[39;00m\n\u001b[1;32m   2435\u001b[0m \u001b[38;5;28;01mif\u001b[39;00m \u001b[38;5;28mgetattr\u001b[39m(fn, magic\u001b[38;5;241m.\u001b[39mMAGIC_OUTPUT_CAN_BE_SILENCED, \u001b[38;5;28;01mFalse\u001b[39;00m):\n",
      "File \u001b[0;32m~/miniconda3/envs/pytorch2_env/lib/python3.8/site-packages/IPython/core/magics/execution.py:1163\u001b[0m, in \u001b[0;36mExecutionMagics.timeit\u001b[0;34m(self, line, cell, local_ns)\u001b[0m\n\u001b[1;32m   1161\u001b[0m \u001b[38;5;28;01mfor\u001b[39;00m index \u001b[38;5;129;01min\u001b[39;00m \u001b[38;5;28mrange\u001b[39m(\u001b[38;5;241m0\u001b[39m, \u001b[38;5;241m10\u001b[39m):\n\u001b[1;32m   1162\u001b[0m     number \u001b[38;5;241m=\u001b[39m \u001b[38;5;241m10\u001b[39m \u001b[38;5;241m*\u001b[39m\u001b[38;5;241m*\u001b[39m index\n\u001b[0;32m-> 1163\u001b[0m     time_number \u001b[38;5;241m=\u001b[39m \u001b[43mtimer\u001b[49m\u001b[38;5;241;43m.\u001b[39;49m\u001b[43mtimeit\u001b[49m\u001b[43m(\u001b[49m\u001b[43mnumber\u001b[49m\u001b[43m)\u001b[49m\n\u001b[1;32m   1164\u001b[0m     \u001b[38;5;28;01mif\u001b[39;00m time_number \u001b[38;5;241m>\u001b[39m\u001b[38;5;241m=\u001b[39m \u001b[38;5;241m0.2\u001b[39m:\n\u001b[1;32m   1165\u001b[0m         \u001b[38;5;28;01mbreak\u001b[39;00m\n",
      "File \u001b[0;32m~/miniconda3/envs/pytorch2_env/lib/python3.8/site-packages/IPython/core/magics/execution.py:157\u001b[0m, in \u001b[0;36mTimer.timeit\u001b[0;34m(self, number)\u001b[0m\n\u001b[1;32m    155\u001b[0m gc\u001b[38;5;241m.\u001b[39mdisable()\n\u001b[1;32m    156\u001b[0m \u001b[38;5;28;01mtry\u001b[39;00m:\n\u001b[0;32m--> 157\u001b[0m     timing \u001b[38;5;241m=\u001b[39m \u001b[38;5;28;43mself\u001b[39;49m\u001b[38;5;241;43m.\u001b[39;49m\u001b[43minner\u001b[49m\u001b[43m(\u001b[49m\u001b[43mit\u001b[49m\u001b[43m,\u001b[49m\u001b[43m \u001b[49m\u001b[38;5;28;43mself\u001b[39;49m\u001b[38;5;241;43m.\u001b[39;49m\u001b[43mtimer\u001b[49m\u001b[43m)\u001b[49m\n\u001b[1;32m    158\u001b[0m \u001b[38;5;28;01mfinally\u001b[39;00m:\n\u001b[1;32m    159\u001b[0m     \u001b[38;5;28;01mif\u001b[39;00m gcold:\n",
      "File \u001b[0;32m<magic-timeit>:1\u001b[0m, in \u001b[0;36minner\u001b[0;34m(_it, _timer)\u001b[0m\n",
      "File \u001b[0;32m~/miniconda3/envs/pytorch2_env/lib/python3.8/site-packages/pandas/util/_decorators.py:211\u001b[0m, in \u001b[0;36mdeprecate_kwarg.<locals>._deprecate_kwarg.<locals>.wrapper\u001b[0;34m(*args, **kwargs)\u001b[0m\n\u001b[1;32m    209\u001b[0m     \u001b[38;5;28;01melse\u001b[39;00m:\n\u001b[1;32m    210\u001b[0m         kwargs[new_arg_name] \u001b[38;5;241m=\u001b[39m new_arg_value\n\u001b[0;32m--> 211\u001b[0m \u001b[38;5;28;01mreturn\u001b[39;00m \u001b[43mfunc\u001b[49m\u001b[43m(\u001b[49m\u001b[38;5;241;43m*\u001b[39;49m\u001b[43margs\u001b[49m\u001b[43m,\u001b[49m\u001b[43m \u001b[49m\u001b[38;5;241;43m*\u001b[39;49m\u001b[38;5;241;43m*\u001b[39;49m\u001b[43mkwargs\u001b[49m\u001b[43m)\u001b[49m\n",
      "File \u001b[0;32m~/miniconda3/envs/pytorch2_env/lib/python3.8/site-packages/pandas/util/_decorators.py:331\u001b[0m, in \u001b[0;36mdeprecate_nonkeyword_arguments.<locals>.decorate.<locals>.wrapper\u001b[0;34m(*args, **kwargs)\u001b[0m\n\u001b[1;32m    325\u001b[0m \u001b[38;5;28;01mif\u001b[39;00m \u001b[38;5;28mlen\u001b[39m(args) \u001b[38;5;241m>\u001b[39m num_allow_args:\n\u001b[1;32m    326\u001b[0m     warnings\u001b[38;5;241m.\u001b[39mwarn(\n\u001b[1;32m    327\u001b[0m         msg\u001b[38;5;241m.\u001b[39mformat(arguments\u001b[38;5;241m=\u001b[39m_format_argument_list(allow_args)),\n\u001b[1;32m    328\u001b[0m         \u001b[38;5;167;01mFutureWarning\u001b[39;00m,\n\u001b[1;32m    329\u001b[0m         stacklevel\u001b[38;5;241m=\u001b[39mfind_stack_level(),\n\u001b[1;32m    330\u001b[0m     )\n\u001b[0;32m--> 331\u001b[0m \u001b[38;5;28;01mreturn\u001b[39;00m \u001b[43mfunc\u001b[49m\u001b[43m(\u001b[49m\u001b[38;5;241;43m*\u001b[39;49m\u001b[43margs\u001b[49m\u001b[43m,\u001b[49m\u001b[43m \u001b[49m\u001b[38;5;241;43m*\u001b[39;49m\u001b[38;5;241;43m*\u001b[39;49m\u001b[43mkwargs\u001b[49m\u001b[43m)\u001b[49m\n",
      "File \u001b[0;32m~/miniconda3/envs/pytorch2_env/lib/python3.8/site-packages/pandas/io/parsers/readers.py:950\u001b[0m, in \u001b[0;36mread_csv\u001b[0;34m(filepath_or_buffer, sep, delimiter, header, names, index_col, usecols, squeeze, prefix, mangle_dupe_cols, dtype, engine, converters, true_values, false_values, skipinitialspace, skiprows, skipfooter, nrows, na_values, keep_default_na, na_filter, verbose, skip_blank_lines, parse_dates, infer_datetime_format, keep_date_col, date_parser, dayfirst, cache_dates, iterator, chunksize, compression, thousands, decimal, lineterminator, quotechar, quoting, doublequote, escapechar, comment, encoding, encoding_errors, dialect, error_bad_lines, warn_bad_lines, on_bad_lines, delim_whitespace, low_memory, memory_map, float_precision, storage_options)\u001b[0m\n\u001b[1;32m    935\u001b[0m kwds_defaults \u001b[38;5;241m=\u001b[39m _refine_defaults_read(\n\u001b[1;32m    936\u001b[0m     dialect,\n\u001b[1;32m    937\u001b[0m     delimiter,\n\u001b[0;32m   (...)\u001b[0m\n\u001b[1;32m    946\u001b[0m     defaults\u001b[38;5;241m=\u001b[39m{\u001b[38;5;124m\"\u001b[39m\u001b[38;5;124mdelimiter\u001b[39m\u001b[38;5;124m\"\u001b[39m: \u001b[38;5;124m\"\u001b[39m\u001b[38;5;124m,\u001b[39m\u001b[38;5;124m\"\u001b[39m},\n\u001b[1;32m    947\u001b[0m )\n\u001b[1;32m    948\u001b[0m kwds\u001b[38;5;241m.\u001b[39mupdate(kwds_defaults)\n\u001b[0;32m--> 950\u001b[0m \u001b[38;5;28;01mreturn\u001b[39;00m \u001b[43m_read\u001b[49m\u001b[43m(\u001b[49m\u001b[43mfilepath_or_buffer\u001b[49m\u001b[43m,\u001b[49m\u001b[43m \u001b[49m\u001b[43mkwds\u001b[49m\u001b[43m)\u001b[49m\n",
      "File \u001b[0;32m~/miniconda3/envs/pytorch2_env/lib/python3.8/site-packages/pandas/io/parsers/readers.py:611\u001b[0m, in \u001b[0;36m_read\u001b[0;34m(filepath_or_buffer, kwds)\u001b[0m\n\u001b[1;32m    608\u001b[0m     \u001b[38;5;28;01mreturn\u001b[39;00m parser\n\u001b[1;32m    610\u001b[0m \u001b[38;5;28;01mwith\u001b[39;00m parser:\n\u001b[0;32m--> 611\u001b[0m     \u001b[38;5;28;01mreturn\u001b[39;00m \u001b[43mparser\u001b[49m\u001b[38;5;241;43m.\u001b[39;49m\u001b[43mread\u001b[49m\u001b[43m(\u001b[49m\u001b[43mnrows\u001b[49m\u001b[43m)\u001b[49m\n",
      "File \u001b[0;32m~/miniconda3/envs/pytorch2_env/lib/python3.8/site-packages/pandas/io/parsers/readers.py:1778\u001b[0m, in \u001b[0;36mTextFileReader.read\u001b[0;34m(self, nrows)\u001b[0m\n\u001b[1;32m   1771\u001b[0m nrows \u001b[38;5;241m=\u001b[39m validate_integer(\u001b[38;5;124m\"\u001b[39m\u001b[38;5;124mnrows\u001b[39m\u001b[38;5;124m\"\u001b[39m, nrows)\n\u001b[1;32m   1772\u001b[0m \u001b[38;5;28;01mtry\u001b[39;00m:\n\u001b[1;32m   1773\u001b[0m     \u001b[38;5;66;03m# error: \"ParserBase\" has no attribute \"read\"\u001b[39;00m\n\u001b[1;32m   1774\u001b[0m     (\n\u001b[1;32m   1775\u001b[0m         index,\n\u001b[1;32m   1776\u001b[0m         columns,\n\u001b[1;32m   1777\u001b[0m         col_dict,\n\u001b[0;32m-> 1778\u001b[0m     ) \u001b[38;5;241m=\u001b[39m \u001b[38;5;28;43mself\u001b[39;49m\u001b[38;5;241;43m.\u001b[39;49m\u001b[43m_engine\u001b[49m\u001b[38;5;241;43m.\u001b[39;49m\u001b[43mread\u001b[49m\u001b[43m(\u001b[49m\u001b[43m  \u001b[49m\u001b[38;5;66;43;03m# type: ignore[attr-defined]\u001b[39;49;00m\n\u001b[1;32m   1779\u001b[0m \u001b[43m        \u001b[49m\u001b[43mnrows\u001b[49m\n\u001b[1;32m   1780\u001b[0m \u001b[43m    \u001b[49m\u001b[43m)\u001b[49m\n\u001b[1;32m   1781\u001b[0m \u001b[38;5;28;01mexcept\u001b[39;00m \u001b[38;5;167;01mException\u001b[39;00m:\n\u001b[1;32m   1782\u001b[0m     \u001b[38;5;28mself\u001b[39m\u001b[38;5;241m.\u001b[39mclose()\n",
      "File \u001b[0;32m~/miniconda3/envs/pytorch2_env/lib/python3.8/site-packages/pandas/io/parsers/c_parser_wrapper.py:232\u001b[0m, in \u001b[0;36mCParserWrapper.read\u001b[0;34m(self, nrows)\u001b[0m\n\u001b[1;32m    230\u001b[0m     chunks \u001b[38;5;241m=\u001b[39m \u001b[38;5;28mself\u001b[39m\u001b[38;5;241m.\u001b[39m_reader\u001b[38;5;241m.\u001b[39mread_low_memory(nrows)\n\u001b[1;32m    231\u001b[0m     \u001b[38;5;66;03m# destructive to chunks\u001b[39;00m\n\u001b[0;32m--> 232\u001b[0m     data \u001b[38;5;241m=\u001b[39m \u001b[43m_concatenate_chunks\u001b[49m\u001b[43m(\u001b[49m\u001b[43mchunks\u001b[49m\u001b[43m)\u001b[49m\n\u001b[1;32m    234\u001b[0m \u001b[38;5;28;01melse\u001b[39;00m:\n\u001b[1;32m    235\u001b[0m     data \u001b[38;5;241m=\u001b[39m \u001b[38;5;28mself\u001b[39m\u001b[38;5;241m.\u001b[39m_reader\u001b[38;5;241m.\u001b[39mread(nrows)\n",
      "File \u001b[0;32m~/miniconda3/envs/pytorch2_env/lib/python3.8/site-packages/pandas/io/parsers/c_parser_wrapper.py:402\u001b[0m, in \u001b[0;36m_concatenate_chunks\u001b[0;34m(chunks)\u001b[0m\n\u001b[1;32m    390\u001b[0m             result[name] \u001b[38;5;241m=\u001b[39m array_type\u001b[38;5;241m.\u001b[39m_concat_same_type(\n\u001b[1;32m    391\u001b[0m                 arrs  \u001b[38;5;66;03m# type: ignore[arg-type]\u001b[39;00m\n\u001b[1;32m    392\u001b[0m             )\n\u001b[1;32m    393\u001b[0m         \u001b[38;5;28;01melse\u001b[39;00m:\n\u001b[1;32m    394\u001b[0m             \u001b[38;5;66;03m# error: Argument 1 to \"concatenate\" has incompatible\u001b[39;00m\n\u001b[1;32m    395\u001b[0m             \u001b[38;5;66;03m# type \"List[Union[ExtensionArray, ndarray[Any, Any]]]\"\u001b[39;00m\n\u001b[0;32m   (...)\u001b[0m\n\u001b[1;32m    400\u001b[0m             \u001b[38;5;66;03m# , Sequence[Sequence[Sequence[Sequence[\u001b[39;00m\n\u001b[1;32m    401\u001b[0m             \u001b[38;5;66;03m# _SupportsArray[dtype[Any]]]]]]]\"\u001b[39;00m\n\u001b[0;32m--> 402\u001b[0m             result[name] \u001b[38;5;241m=\u001b[39m \u001b[43mnp\u001b[49m\u001b[38;5;241;43m.\u001b[39;49m\u001b[43mconcatenate\u001b[49m\u001b[43m(\u001b[49m\u001b[43marrs\u001b[49m\u001b[43m)\u001b[49m  \u001b[38;5;66;03m# type: ignore[arg-type]\u001b[39;00m\n\u001b[1;32m    404\u001b[0m \u001b[38;5;28;01mif\u001b[39;00m warning_columns:\n\u001b[1;32m    405\u001b[0m     warning_names \u001b[38;5;241m=\u001b[39m \u001b[38;5;124m\"\u001b[39m\u001b[38;5;124m,\u001b[39m\u001b[38;5;124m\"\u001b[39m\u001b[38;5;241m.\u001b[39mjoin(warning_columns)\n",
      "File \u001b[0;32m<__array_function__ internals>:180\u001b[0m, in \u001b[0;36mconcatenate\u001b[0;34m(*args, **kwargs)\u001b[0m\n",
      "\u001b[0;31mKeyboardInterrupt\u001b[0m: "
     ]
    }
   ],
   "source": [
    "%%timeit -o\n",
    "pandas_df = pd.read_csv(CSV_PATH, on_bad_lines='skip')"
   ]
  },
  {
   "cell_type": "code",
   "execution_count": null,
   "id": "d00c4336",
   "metadata": {},
   "outputs": [],
   "source": [
    "comparison_results_dict['read_csv']['pandas'] = _.best"
   ]
  },
  {
   "cell_type": "markdown",
   "id": "603fb63a",
   "metadata": {},
   "source": [
    "## 2. Filter rows based on one condition"
   ]
  },
  {
   "cell_type": "markdown",
   "id": "6aa1715b",
   "metadata": {},
   "source": [
    "### 2.1. Polars"
   ]
  },
  {
   "cell_type": "code",
   "execution_count": null,
   "id": "aacbbeae",
   "metadata": {},
   "outputs": [],
   "source": [
    "%%timeit -o\n",
    "polars_df = pl.scan_csv(CSV_PATH, ignore_errors=True)\n",
    "result_polars_df = polars_df.filter(pl.col(['Registration State']) == \"NY\")\n",
    "result_polars_df.collect()"
   ]
  },
  {
   "cell_type": "code",
   "execution_count": null,
   "id": "bcccd99d",
   "metadata": {},
   "outputs": [],
   "source": [
    "comparison_results_dict['filter_one_condition']['polars'] = _.best"
   ]
  },
  {
   "cell_type": "markdown",
   "id": "8a069bd5",
   "metadata": {},
   "source": [
    "### 2.2. Pandas"
   ]
  },
  {
   "cell_type": "code",
   "execution_count": null,
   "id": "60efd75d",
   "metadata": {
    "scrolled": true
   },
   "outputs": [],
   "source": [
    "%%timeit -o\n",
    "pandas_df = pd.read_csv(CSV_PATH, on_bad_lines='skip')\n",
    "results_pandas_df = pandas_df.loc[pandas_df['Registration State'] == 'NY']"
   ]
  },
  {
   "cell_type": "code",
   "execution_count": null,
   "id": "4d3fdc5a",
   "metadata": {},
   "outputs": [],
   "source": [
    "comparison_results_dict['filter_one_condition']['pandas'] = _.best"
   ]
  },
  {
   "cell_type": "markdown",
   "id": "9dd3cf38",
   "metadata": {},
   "source": [
    "## 3. Filter rows based on multiple conditions"
   ]
  },
  {
   "cell_type": "markdown",
   "id": "de8a016a",
   "metadata": {},
   "source": [
    "### 3.1. Polars"
   ]
  },
  {
   "cell_type": "code",
   "execution_count": null,
   "id": "7d9ea32b",
   "metadata": {},
   "outputs": [],
   "source": [
    "%%timeit -o\n",
    "polars_df = pl.scan_csv(CSV_PATH, ignore_errors=True)\n",
    "result_polars_df = polars_df.filter(\n",
    "    (pl.col('Registration State') == 'NY') & \\\n",
    "    (pl.col('Summons Number') <= 1335096139) & \\\n",
    "    (pl.col('Summons Number') > 1335089433)\n",
    ")\n",
    "result_polars_df.collect()"
   ]
  },
  {
   "cell_type": "code",
   "execution_count": null,
   "id": "e9db92df",
   "metadata": {},
   "outputs": [],
   "source": [
    "comparison_results_dict['filter_multiple_conditions']['polars'] = _.best"
   ]
  },
  {
   "cell_type": "markdown",
   "id": "fd7374f7",
   "metadata": {},
   "source": [
    "### 3.2. Pandas"
   ]
  },
  {
   "cell_type": "code",
   "execution_count": null,
   "id": "bcd996d5",
   "metadata": {},
   "outputs": [],
   "source": [
    "%%timeit -o\n",
    "pandas_df = pd.read_csv(CSV_PATH, on_bad_lines='skip')\n",
    "results_pandas_df = pandas_df.loc[\n",
    "    (pandas_df['Registration State'] == 'NY') & \\\n",
    "    (pandas_df['Summons Number'] <= 1335096139) & \\\n",
    "    (pandas_df['Summons Number'] > 1335089433)\n",
    "]"
   ]
  },
  {
   "cell_type": "code",
   "execution_count": null,
   "id": "af17ced3",
   "metadata": {},
   "outputs": [],
   "source": [
    "comparison_results_dict['filter_multiple_conditions']['pandas'] = _.best"
   ]
  },
  {
   "cell_type": "markdown",
   "id": "27d5376c",
   "metadata": {},
   "source": [
    "## 4. Create new column based on another"
   ]
  },
  {
   "cell_type": "markdown",
   "id": "1d8452e1",
   "metadata": {},
   "source": [
    "### 4.1. Polars"
   ]
  },
  {
   "cell_type": "code",
   "execution_count": null,
   "id": "a863ddb5",
   "metadata": {},
   "outputs": [],
   "source": [
    "%%timeit -o\n",
    "polars_df = pl.scan_csv(CSV_PATH, ignore_errors=True)\n",
    "result_polars_df = polars_df.with_columns([\n",
    "    pl.col('Violation Code').map(lambda x: x + 10_000).alias('Clean Violation Code')\n",
    "])\n",
    "result_polars_df.collect()"
   ]
  },
  {
   "cell_type": "code",
   "execution_count": null,
   "id": "9dcc5a47",
   "metadata": {},
   "outputs": [],
   "source": [
    "comparison_results_dict['create_new_column']['polars'] = _.best"
   ]
  },
  {
   "cell_type": "markdown",
   "id": "4f5bfc12",
   "metadata": {},
   "source": [
    "### 4.2. Pandas"
   ]
  },
  {
   "cell_type": "code",
   "execution_count": null,
   "id": "1553f98b",
   "metadata": {},
   "outputs": [],
   "source": [
    "%%timeit -o\n",
    "pandas_df = pd.read_csv(CSV_PATH, on_bad_lines='skip')\n",
    "pandas_df['Clean Violation Code'] = pandas_df['Violation Code'].apply(lambda x: x + 10_000)"
   ]
  },
  {
   "cell_type": "code",
   "execution_count": null,
   "id": "31e47c8e",
   "metadata": {},
   "outputs": [],
   "source": [
    "comparison_results_dict['create_new_column']['pandas'] = _.best"
   ]
  },
  {
   "cell_type": "markdown",
   "id": "6fad2232",
   "metadata": {},
   "source": [
    "## 5. GroupBy"
   ]
  },
  {
   "cell_type": "markdown",
   "id": "bfd244dc",
   "metadata": {},
   "source": [
    "### 5.1. Polars"
   ]
  },
  {
   "cell_type": "code",
   "execution_count": null,
   "id": "79f7ec20",
   "metadata": {},
   "outputs": [],
   "source": [
    "%%timeit -o\n",
    "polars_df = pl.scan_csv(CSV_PATH, ignore_errors=True)\n",
    "result_polars_df = polars_df.groupby(by='Registration State').count()\n",
    "result_polars_df.collect()"
   ]
  },
  {
   "cell_type": "code",
   "execution_count": null,
   "id": "837032f9",
   "metadata": {},
   "outputs": [],
   "source": [
    "comparison_results_dict['group_by']['polars'] = _.best"
   ]
  },
  {
   "cell_type": "markdown",
   "id": "c48f275d",
   "metadata": {},
   "source": [
    "### 5.2. Pandas"
   ]
  },
  {
   "cell_type": "code",
   "execution_count": null,
   "id": "acca88fa",
   "metadata": {},
   "outputs": [],
   "source": [
    "%%timeit -o\n",
    "pandas_df = pd.read_csv(CSV_PATH, on_bad_lines='skip')\n",
    "grouped_pandas_df = pandas_df.groupby(by='Registration State').count()"
   ]
  },
  {
   "cell_type": "code",
   "execution_count": null,
   "id": "64786969",
   "metadata": {},
   "outputs": [],
   "source": [
    "comparison_results_dict['group_by']['pandas'] = _.best"
   ]
  },
  {
   "cell_type": "markdown",
   "id": "91860101",
   "metadata": {},
   "source": [
    "## 6. RESULTS"
   ]
  },
  {
   "cell_type": "code",
   "execution_count": null,
   "id": "d29cd742",
   "metadata": {},
   "outputs": [],
   "source": [
    "import json\n",
    "print(json.dumps(comparison_results_dict, indent=4))"
   ]
  },
  {
   "cell_type": "code",
   "execution_count": null,
   "id": "6b83559c",
   "metadata": {},
   "outputs": [],
   "source": [
    "with open(f'{OUT_JSON_NAME}_with_read.json', 'w') as file:\n",
    "    json.dump(comparison_results_dict, file, indent=4)"
   ]
  },
  {
   "cell_type": "code",
   "execution_count": null,
   "id": "4fb6f5b7",
   "metadata": {},
   "outputs": [],
   "source": []
  }
 ],
 "metadata": {
  "kernelspec": {
   "display_name": "Python 3 (ipykernel)",
   "language": "python",
   "name": "python3"
  },
  "language_info": {
   "codemirror_mode": {
    "name": "ipython",
    "version": 3
   },
   "file_extension": ".py",
   "mimetype": "text/x-python",
   "name": "python",
   "nbconvert_exporter": "python",
   "pygments_lexer": "ipython3",
   "version": "3.8.16"
  }
 },
 "nbformat": 4,
 "nbformat_minor": 5
}
